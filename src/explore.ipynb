{
    "cells": [
        {
            "cell_type": "markdown",
            "metadata": {},
            "source": [
                "# Explore here"
            ]
        },
        {
            "cell_type": "code",
            "execution_count": null,
            "metadata": {},
            "outputs": [],
            "source": []
        },
        {
            "cell_type": "code",
            "execution_count": 59,
            "metadata": {},
            "outputs": [
                {
                    "name": "stdout",
                    "output_type": "stream",
                    "text": [
                        "Index(['album', 'artists', 'available_markets', 'disc_number', 'duration_ms',\n",
                        "       'explicit', 'external_ids', 'external_urls', 'href', 'id', 'is_local',\n",
                        "       'is_playable', 'name', 'popularity', 'preview_url', 'track_number',\n",
                        "       'type', 'uri'],\n",
                        "      dtype='object')\n",
                        "                              name  popularity  duration_ms\n",
                        "0                        One Dance          82       173986\n",
                        "1                         She Will          75       305840\n",
                        "2  WAIT FOR U (feat. Drake & Tems)          80       189893\n",
                        "3                       God's Plan          79       198973\n",
                        "4                     Passionfruit          79       298940\n",
                        "5                      GIMME A HUG          78       193054\n",
                        "6                         CN TOWER          78       241889\n",
                        "7                            NOKIA          78       241023\n",
                        "8    Jimmy Cooks (feat. 21 Savage)          78       218364\n",
                        "9                        Headlines          77       235986\n"
                    ]
                },
                {
                    "data": {
                        "text/html": [
                            "<div>\n",
                            "<style scoped>\n",
                            "    .dataframe tbody tr th:only-of-type {\n",
                            "        vertical-align: middle;\n",
                            "    }\n",
                            "\n",
                            "    .dataframe tbody tr th {\n",
                            "        vertical-align: top;\n",
                            "    }\n",
                            "\n",
                            "    .dataframe thead th {\n",
                            "        text-align: right;\n",
                            "    }\n",
                            "</style>\n",
                            "<table border=\"1\" class=\"dataframe\">\n",
                            "  <thead>\n",
                            "    <tr style=\"text-align: right;\">\n",
                            "      <th></th>\n",
                            "      <th>name</th>\n",
                            "      <th>popularity</th>\n",
                            "      <th>duration_ms</th>\n",
                            "    </tr>\n",
                            "  </thead>\n",
                            "  <tbody>\n",
                            "    <tr>\n",
                            "      <th>1</th>\n",
                            "      <td>She Will</td>\n",
                            "      <td>75</td>\n",
                            "      <td>305840</td>\n",
                            "    </tr>\n",
                            "    <tr>\n",
                            "      <th>4</th>\n",
                            "      <td>Passionfruit</td>\n",
                            "      <td>79</td>\n",
                            "      <td>298940</td>\n",
                            "    </tr>\n",
                            "    <tr>\n",
                            "      <th>6</th>\n",
                            "      <td>CN TOWER</td>\n",
                            "      <td>78</td>\n",
                            "      <td>241889</td>\n",
                            "    </tr>\n",
                            "  </tbody>\n",
                            "</table>\n",
                            "</div>"
                        ],
                        "text/plain": [
                            "           name  popularity  duration_ms\n",
                            "1      She Will          75       305840\n",
                            "4  Passionfruit          79       298940\n",
                            "6      CN TOWER          78       241889"
                        ]
                    },
                    "execution_count": 59,
                    "metadata": {},
                    "output_type": "execute_result"
                }
            ],
            "source": [
                "import os\n",
                "import pandas as pd\n",
                "from dotenv import load_dotenv\n",
                "import spotipy\n",
                "import requests\n",
                "import ast\n",
                "from spotipy.oauth2 import SpotifyClientCredentials\n",
                "load_dotenv()\n",
                "\n",
                "import os\n",
                "\n",
                "client_id = \"33d536d3494b4f71a207772643b75b82\"\n",
                "client_secret = \"323a434b603c4722bb860a4d47273155\"\n",
                "Drake_id = \"3TVXtAsR1Inumwj472S9r4\"\n",
                "Drake_url = \"spotify:artist:3TVXtAsR1Inumwj472S9r4\"\n",
                "\n",
                "spotify = spotipy.Spotify(oauth_manager=SpotifyClientCredentials(client_id = client_id,client_secret = client_secret))\n",
                "results = spotify.artist_top_tracks(Drake_url)\n",
                "if results:\n",
                "    tracks = results['tracks']\n",
                "tracks\n",
                "\n",
                "tabla = pd.DataFrame(tracks)\n",
                "tabla\n",
                "\n",
                "columnas = tabla.columns\n",
                "print(columnas)\n",
                "\n",
                "top_3 = tabla.head(3)\n",
                "top_3\n",
                "\n",
                "popularidad = tabla[['name','popularity', 'duration_ms']]\n",
                "print(popularidad)\n",
                "\n",
                "mas_populares = popularidad.sort_values('duration_ms', ascending = False)\n",
                "mas_populares\n",
                "\n",
                "top_3 = mas_populares.head(3)\n",
                "top_3\n"
            ]
        }
    ],
    "metadata": {
        "kernelspec": {
            "display_name": "Python 3",
            "language": "python",
            "name": "python3"
        },
        "language_info": {
            "codemirror_mode": {
                "name": "ipython",
                "version": 3
            },
            "file_extension": ".py",
            "mimetype": "text/x-python",
            "name": "python",
            "nbconvert_exporter": "python",
            "pygments_lexer": "ipython3",
            "version": "3.11.4"
        },
        "orig_nbformat": 4
    },
    "nbformat": 4,
    "nbformat_minor": 2
}
